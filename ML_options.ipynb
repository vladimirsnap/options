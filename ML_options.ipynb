{
  "nbformat": 4,
  "nbformat_minor": 0,
  "metadata": {
    "colab": {
      "provenance": [],
      "authorship_tag": "ABX9TyMRuacnY1OpWk5IwrFt5hE1",
      "include_colab_link": true
    },
    "kernelspec": {
      "name": "python3",
      "display_name": "Python 3"
    },
    "language_info": {
      "name": "python"
    }
  },
  "cells": [
    {
      "cell_type": "markdown",
      "metadata": {
        "id": "view-in-github",
        "colab_type": "text"
      },
      "source": [
        "<a href=\"https://colab.research.google.com/github/vladimirsnap/options/blob/main/ML_options.ipynb\" target=\"_parent\"><img src=\"https://colab.research.google.com/assets/colab-badge.svg\" alt=\"Open In Colab\"/></a>"
      ]
    },
    {
      "cell_type": "code",
      "source": [
        "!pip install catboost\n"
      ],
      "metadata": {
        "colab": {
          "base_uri": "https://localhost:8080/"
        },
        "id": "pXlRekyjVD1G",
        "outputId": "2d66cf68-6091-4a37-9e62-03b0c1454477"
      },
      "execution_count": null,
      "outputs": [
        {
          "output_type": "stream",
          "name": "stdout",
          "text": [
            "Collecting catboost\n",
            "  Downloading catboost-1.2-cp310-cp310-manylinux2014_x86_64.whl (98.6 MB)\n",
            "\u001b[2K     \u001b[90m━━━━━━━━━━━━━━━━━━━━━━━━━━━━━━━━━━━━━━━━\u001b[0m \u001b[32m98.6/98.6 MB\u001b[0m \u001b[31m9.2 MB/s\u001b[0m eta \u001b[36m0:00:00\u001b[0m\n",
            "\u001b[?25hRequirement already satisfied: graphviz in /usr/local/lib/python3.10/dist-packages (from catboost) (0.20.1)\n",
            "Requirement already satisfied: matplotlib in /usr/local/lib/python3.10/dist-packages (from catboost) (3.7.1)\n",
            "Requirement already satisfied: numpy>=1.16.0 in /usr/local/lib/python3.10/dist-packages (from catboost) (1.22.4)\n",
            "Requirement already satisfied: pandas>=0.24 in /usr/local/lib/python3.10/dist-packages (from catboost) (1.5.3)\n",
            "Requirement already satisfied: scipy in /usr/local/lib/python3.10/dist-packages (from catboost) (1.10.1)\n",
            "Requirement already satisfied: plotly in /usr/local/lib/python3.10/dist-packages (from catboost) (5.13.1)\n",
            "Requirement already satisfied: six in /usr/local/lib/python3.10/dist-packages (from catboost) (1.16.0)\n",
            "Requirement already satisfied: python-dateutil>=2.8.1 in /usr/local/lib/python3.10/dist-packages (from pandas>=0.24->catboost) (2.8.2)\n",
            "Requirement already satisfied: pytz>=2020.1 in /usr/local/lib/python3.10/dist-packages (from pandas>=0.24->catboost) (2022.7.1)\n",
            "Requirement already satisfied: contourpy>=1.0.1 in /usr/local/lib/python3.10/dist-packages (from matplotlib->catboost) (1.1.0)\n",
            "Requirement already satisfied: cycler>=0.10 in /usr/local/lib/python3.10/dist-packages (from matplotlib->catboost) (0.11.0)\n",
            "Requirement already satisfied: fonttools>=4.22.0 in /usr/local/lib/python3.10/dist-packages (from matplotlib->catboost) (4.40.0)\n",
            "Requirement already satisfied: kiwisolver>=1.0.1 in /usr/local/lib/python3.10/dist-packages (from matplotlib->catboost) (1.4.4)\n",
            "Requirement already satisfied: packaging>=20.0 in /usr/local/lib/python3.10/dist-packages (from matplotlib->catboost) (23.1)\n",
            "Requirement already satisfied: pillow>=6.2.0 in /usr/local/lib/python3.10/dist-packages (from matplotlib->catboost) (8.4.0)\n",
            "Requirement already satisfied: pyparsing>=2.3.1 in /usr/local/lib/python3.10/dist-packages (from matplotlib->catboost) (3.1.0)\n",
            "Requirement already satisfied: tenacity>=6.2.0 in /usr/local/lib/python3.10/dist-packages (from plotly->catboost) (8.2.2)\n",
            "Installing collected packages: catboost\n",
            "Successfully installed catboost-1.2\n"
          ]
        }
      ]
    },
    {
      "cell_type": "code",
      "execution_count": null,
      "metadata": {
        "id": "pT0rJsQQRlcd"
      },
      "outputs": [],
      "source": [
        "import pandas as pd\n",
        "import matplotlib.pyplot as plt\n",
        "import seaborn as sns\n",
        "from sklearn.model_selection import train_test_split\n",
        "from sklearn.linear_model import LinearRegression"
      ]
    },
    {
      "cell_type": "code",
      "source": [
        "from google.colab import drive\n",
        "drive.mount('/content/drive')\n",
        "\n",
        "data = pd.read_csv('/content/drive/My Drive/OPT-IEP.csv')  # Замените 'Yourfile.csv' на имя вашего файла и путь к файлу\n"
      ],
      "metadata": {
        "id": "UQPTz92HSDUd"
      },
      "execution_count": null,
      "outputs": []
    },
    {
      "cell_type": "code",
      "source": [
        "data.isnull().sum()\n"
      ],
      "metadata": {
        "colab": {
          "base_uri": "https://localhost:8080/"
        },
        "id": "lJ9VlVCTVVvP",
        "outputId": "c37a61ae-3186-4af1-caa6-6ea8b6e48c5c"
      },
      "execution_count": null,
      "outputs": [
        {
          "output_type": "execute_result",
          "data": {
            "text/plain": [
              "date         0\n",
              "stockpx      0\n",
              "iv30         0\n",
              "iv60         0\n",
              "iv90         0\n",
              "m1atmiv      0\n",
              "m1dtex       0\n",
              "m2atmiv      0\n",
              "m2dtex       0\n",
              "m3atmiv      0\n",
              "m3dtex       0\n",
              "m4atmiv      0\n",
              "m4dtex       0\n",
              "slope        0\n",
              "deriv        0\n",
              "slope_inf    0\n",
              "deriv_inf    0\n",
              "10dclsHV     0\n",
              "20dclsHV     0\n",
              "60dclsHV     0\n",
              "120dclsHV    0\n",
              "252dclsHV    0\n",
              "10dORHV      0\n",
              "20dORHV      0\n",
              "60dORHV      0\n",
              "120dORHV     0\n",
              "252dORHV     0\n",
              "dtype: int64"
            ]
          },
          "metadata": {},
          "execution_count": 7
        }
      ]
    },
    {
      "cell_type": "code",
      "source": [
        "data.head()"
      ],
      "metadata": {
        "colab": {
          "base_uri": "https://localhost:8080/",
          "height": 300
        },
        "id": "E55a1JJoWKd9",
        "outputId": "d26bfb2a-1082-48eb-f508-7942556574ae"
      },
      "execution_count": null,
      "outputs": [
        {
          "output_type": "execute_result",
          "data": {
            "text/plain": [
              "         date  stockpx   iv30   iv60   iv90  m1atmiv  m1dtex  m2atmiv  m2dtex  \\\n",
              "0  2023-06-26    26.67  71.95  85.58  78.42    71.14    27.0    87.57    55.0   \n",
              "1  2023-06-23    27.43  72.60  90.13  82.96    72.25    30.0    91.01    58.0   \n",
              "2  2023-06-22    26.86  78.15  92.33  80.87    78.15    31.0    93.28    59.0   \n",
              "3  2023-06-21    27.33  78.84  89.28  84.34    79.07    32.0    89.46    60.0   \n",
              "4  2023-06-20    28.40  79.23  92.62  82.69    79.46    33.0    92.62    61.0   \n",
              "\n",
              "   m3atmiv  ...  10dclsHV  20dclsHV  60dclsHV  120dclsHV  252dclsHV  10dORHV  \\\n",
              "0    79.03  ...     49.81     66.37    108.99      77.77      54.88    67.12   \n",
              "1    83.48  ...     48.47     83.80    108.95      77.71      54.85    65.99   \n",
              "2    81.17  ...     49.20     96.92    108.84      77.64      54.81    68.67   \n",
              "3    84.74  ...     76.17     97.63    108.88      77.61      54.80    86.68   \n",
              "4    82.95  ...     72.42    103.96    108.70      77.46      54.69    88.03   \n",
              "\n",
              "   20dORHV  60dORHV  120dORHV  252dORHV  \n",
              "0    84.20   107.94     76.88     54.64  \n",
              "1    98.72   107.72     76.73     54.60  \n",
              "2   108.05   107.60     76.64     54.57  \n",
              "3   109.22   107.54     76.58     54.60  \n",
              "4   115.64   107.24     76.38     54.48  \n",
              "\n",
              "[5 rows x 27 columns]"
            ],
            "text/html": [
              "\n",
              "  <div id=\"df-bfe2512a-8a9f-48db-a91f-90c7212dff77\">\n",
              "    <div class=\"colab-df-container\">\n",
              "      <div>\n",
              "<style scoped>\n",
              "    .dataframe tbody tr th:only-of-type {\n",
              "        vertical-align: middle;\n",
              "    }\n",
              "\n",
              "    .dataframe tbody tr th {\n",
              "        vertical-align: top;\n",
              "    }\n",
              "\n",
              "    .dataframe thead th {\n",
              "        text-align: right;\n",
              "    }\n",
              "</style>\n",
              "<table border=\"1\" class=\"dataframe\">\n",
              "  <thead>\n",
              "    <tr style=\"text-align: right;\">\n",
              "      <th></th>\n",
              "      <th>date</th>\n",
              "      <th>stockpx</th>\n",
              "      <th>iv30</th>\n",
              "      <th>iv60</th>\n",
              "      <th>iv90</th>\n",
              "      <th>m1atmiv</th>\n",
              "      <th>m1dtex</th>\n",
              "      <th>m2atmiv</th>\n",
              "      <th>m2dtex</th>\n",
              "      <th>m3atmiv</th>\n",
              "      <th>...</th>\n",
              "      <th>10dclsHV</th>\n",
              "      <th>20dclsHV</th>\n",
              "      <th>60dclsHV</th>\n",
              "      <th>120dclsHV</th>\n",
              "      <th>252dclsHV</th>\n",
              "      <th>10dORHV</th>\n",
              "      <th>20dORHV</th>\n",
              "      <th>60dORHV</th>\n",
              "      <th>120dORHV</th>\n",
              "      <th>252dORHV</th>\n",
              "    </tr>\n",
              "  </thead>\n",
              "  <tbody>\n",
              "    <tr>\n",
              "      <th>0</th>\n",
              "      <td>2023-06-26</td>\n",
              "      <td>26.67</td>\n",
              "      <td>71.95</td>\n",
              "      <td>85.58</td>\n",
              "      <td>78.42</td>\n",
              "      <td>71.14</td>\n",
              "      <td>27.0</td>\n",
              "      <td>87.57</td>\n",
              "      <td>55.0</td>\n",
              "      <td>79.03</td>\n",
              "      <td>...</td>\n",
              "      <td>49.81</td>\n",
              "      <td>66.37</td>\n",
              "      <td>108.99</td>\n",
              "      <td>77.77</td>\n",
              "      <td>54.88</td>\n",
              "      <td>67.12</td>\n",
              "      <td>84.20</td>\n",
              "      <td>107.94</td>\n",
              "      <td>76.88</td>\n",
              "      <td>54.64</td>\n",
              "    </tr>\n",
              "    <tr>\n",
              "      <th>1</th>\n",
              "      <td>2023-06-23</td>\n",
              "      <td>27.43</td>\n",
              "      <td>72.60</td>\n",
              "      <td>90.13</td>\n",
              "      <td>82.96</td>\n",
              "      <td>72.25</td>\n",
              "      <td>30.0</td>\n",
              "      <td>91.01</td>\n",
              "      <td>58.0</td>\n",
              "      <td>83.48</td>\n",
              "      <td>...</td>\n",
              "      <td>48.47</td>\n",
              "      <td>83.80</td>\n",
              "      <td>108.95</td>\n",
              "      <td>77.71</td>\n",
              "      <td>54.85</td>\n",
              "      <td>65.99</td>\n",
              "      <td>98.72</td>\n",
              "      <td>107.72</td>\n",
              "      <td>76.73</td>\n",
              "      <td>54.60</td>\n",
              "    </tr>\n",
              "    <tr>\n",
              "      <th>2</th>\n",
              "      <td>2023-06-22</td>\n",
              "      <td>26.86</td>\n",
              "      <td>78.15</td>\n",
              "      <td>92.33</td>\n",
              "      <td>80.87</td>\n",
              "      <td>78.15</td>\n",
              "      <td>31.0</td>\n",
              "      <td>93.28</td>\n",
              "      <td>59.0</td>\n",
              "      <td>81.17</td>\n",
              "      <td>...</td>\n",
              "      <td>49.20</td>\n",
              "      <td>96.92</td>\n",
              "      <td>108.84</td>\n",
              "      <td>77.64</td>\n",
              "      <td>54.81</td>\n",
              "      <td>68.67</td>\n",
              "      <td>108.05</td>\n",
              "      <td>107.60</td>\n",
              "      <td>76.64</td>\n",
              "      <td>54.57</td>\n",
              "    </tr>\n",
              "    <tr>\n",
              "      <th>3</th>\n",
              "      <td>2023-06-21</td>\n",
              "      <td>27.33</td>\n",
              "      <td>78.84</td>\n",
              "      <td>89.28</td>\n",
              "      <td>84.34</td>\n",
              "      <td>79.07</td>\n",
              "      <td>32.0</td>\n",
              "      <td>89.46</td>\n",
              "      <td>60.0</td>\n",
              "      <td>84.74</td>\n",
              "      <td>...</td>\n",
              "      <td>76.17</td>\n",
              "      <td>97.63</td>\n",
              "      <td>108.88</td>\n",
              "      <td>77.61</td>\n",
              "      <td>54.80</td>\n",
              "      <td>86.68</td>\n",
              "      <td>109.22</td>\n",
              "      <td>107.54</td>\n",
              "      <td>76.58</td>\n",
              "      <td>54.60</td>\n",
              "    </tr>\n",
              "    <tr>\n",
              "      <th>4</th>\n",
              "      <td>2023-06-20</td>\n",
              "      <td>28.40</td>\n",
              "      <td>79.23</td>\n",
              "      <td>92.62</td>\n",
              "      <td>82.69</td>\n",
              "      <td>79.46</td>\n",
              "      <td>33.0</td>\n",
              "      <td>92.62</td>\n",
              "      <td>61.0</td>\n",
              "      <td>82.95</td>\n",
              "      <td>...</td>\n",
              "      <td>72.42</td>\n",
              "      <td>103.96</td>\n",
              "      <td>108.70</td>\n",
              "      <td>77.46</td>\n",
              "      <td>54.69</td>\n",
              "      <td>88.03</td>\n",
              "      <td>115.64</td>\n",
              "      <td>107.24</td>\n",
              "      <td>76.38</td>\n",
              "      <td>54.48</td>\n",
              "    </tr>\n",
              "  </tbody>\n",
              "</table>\n",
              "<p>5 rows × 27 columns</p>\n",
              "</div>\n",
              "      <button class=\"colab-df-convert\" onclick=\"convertToInteractive('df-bfe2512a-8a9f-48db-a91f-90c7212dff77')\"\n",
              "              title=\"Convert this dataframe to an interactive table.\"\n",
              "              style=\"display:none;\">\n",
              "        \n",
              "  <svg xmlns=\"http://www.w3.org/2000/svg\" height=\"24px\"viewBox=\"0 0 24 24\"\n",
              "       width=\"24px\">\n",
              "    <path d=\"M0 0h24v24H0V0z\" fill=\"none\"/>\n",
              "    <path d=\"M18.56 5.44l.94 2.06.94-2.06 2.06-.94-2.06-.94-.94-2.06-.94 2.06-2.06.94zm-11 1L8.5 8.5l.94-2.06 2.06-.94-2.06-.94L8.5 2.5l-.94 2.06-2.06.94zm10 10l.94 2.06.94-2.06 2.06-.94-2.06-.94-.94-2.06-.94 2.06-2.06.94z\"/><path d=\"M17.41 7.96l-1.37-1.37c-.4-.4-.92-.59-1.43-.59-.52 0-1.04.2-1.43.59L10.3 9.45l-7.72 7.72c-.78.78-.78 2.05 0 2.83L4 21.41c.39.39.9.59 1.41.59.51 0 1.02-.2 1.41-.59l7.78-7.78 2.81-2.81c.8-.78.8-2.07 0-2.86zM5.41 20L4 18.59l7.72-7.72 1.47 1.35L5.41 20z\"/>\n",
              "  </svg>\n",
              "      </button>\n",
              "      \n",
              "  <style>\n",
              "    .colab-df-container {\n",
              "      display:flex;\n",
              "      flex-wrap:wrap;\n",
              "      gap: 12px;\n",
              "    }\n",
              "\n",
              "    .colab-df-convert {\n",
              "      background-color: #E8F0FE;\n",
              "      border: none;\n",
              "      border-radius: 50%;\n",
              "      cursor: pointer;\n",
              "      display: none;\n",
              "      fill: #1967D2;\n",
              "      height: 32px;\n",
              "      padding: 0 0 0 0;\n",
              "      width: 32px;\n",
              "    }\n",
              "\n",
              "    .colab-df-convert:hover {\n",
              "      background-color: #E2EBFA;\n",
              "      box-shadow: 0px 1px 2px rgba(60, 64, 67, 0.3), 0px 1px 3px 1px rgba(60, 64, 67, 0.15);\n",
              "      fill: #174EA6;\n",
              "    }\n",
              "\n",
              "    [theme=dark] .colab-df-convert {\n",
              "      background-color: #3B4455;\n",
              "      fill: #D2E3FC;\n",
              "    }\n",
              "\n",
              "    [theme=dark] .colab-df-convert:hover {\n",
              "      background-color: #434B5C;\n",
              "      box-shadow: 0px 1px 3px 1px rgba(0, 0, 0, 0.15);\n",
              "      filter: drop-shadow(0px 1px 2px rgba(0, 0, 0, 0.3));\n",
              "      fill: #FFFFFF;\n",
              "    }\n",
              "  </style>\n",
              "\n",
              "      <script>\n",
              "        const buttonEl =\n",
              "          document.querySelector('#df-bfe2512a-8a9f-48db-a91f-90c7212dff77 button.colab-df-convert');\n",
              "        buttonEl.style.display =\n",
              "          google.colab.kernel.accessAllowed ? 'block' : 'none';\n",
              "\n",
              "        async function convertToInteractive(key) {\n",
              "          const element = document.querySelector('#df-bfe2512a-8a9f-48db-a91f-90c7212dff77');\n",
              "          const dataTable =\n",
              "            await google.colab.kernel.invokeFunction('convertToInteractive',\n",
              "                                                     [key], {});\n",
              "          if (!dataTable) return;\n",
              "\n",
              "          const docLinkHtml = 'Like what you see? Visit the ' +\n",
              "            '<a target=\"_blank\" href=https://colab.research.google.com/notebooks/data_table.ipynb>data table notebook</a>'\n",
              "            + ' to learn more about interactive tables.';\n",
              "          element.innerHTML = '';\n",
              "          dataTable['output_type'] = 'display_data';\n",
              "          await google.colab.output.renderOutput(dataTable, element);\n",
              "          const docLink = document.createElement('div');\n",
              "          docLink.innerHTML = docLinkHtml;\n",
              "          element.appendChild(docLink);\n",
              "        }\n",
              "      </script>\n",
              "    </div>\n",
              "  </div>\n",
              "  "
            ]
          },
          "metadata": {},
          "execution_count": 8
        }
      ]
    },
    {
      "cell_type": "code",
      "source": [
        "sns.distplot(data['iv30'])\n",
        "plt.show()"
      ],
      "metadata": {
        "colab": {
          "base_uri": "https://localhost:8080/",
          "height": 646
        },
        "id": "sIbmSfb7V2k6",
        "outputId": "6089a959-2475-4eb1-bb83-52944c5de14a"
      },
      "execution_count": null,
      "outputs": [
        {
          "output_type": "stream",
          "name": "stderr",
          "text": [
            "<ipython-input-9-b2fe75f57a67>:1: UserWarning: \n",
            "\n",
            "`distplot` is a deprecated function and will be removed in seaborn v0.14.0.\n",
            "\n",
            "Please adapt your code to use either `displot` (a figure-level function with\n",
            "similar flexibility) or `histplot` (an axes-level function for histograms).\n",
            "\n",
            "For a guide to updating your code to use the new functions, please see\n",
            "https://gist.github.com/mwaskom/de44147ed2974457ad6372750bbe5751\n",
            "\n",
            "  sns.distplot(data['iv30'])\n"
          ]
        },
        {
          "output_type": "display_data",
          "data": {
            "text/plain": [
              "<Figure size 640x480 with 1 Axes>"
            ],
            "image/png": "[encoded data removed]"
          },
          "metadata": {}
        }
      ]
    },
    {
      "cell_type": "code",
      "source": [
        "data['date'] = pd.to_datetime(data['date'])\n",
        "data['date'] = data['date'].view('int64')\n",
        "\n",
        "\n",
        "# Определение признаков и целевой переменной\n",
        "X = data.drop('iv30', axis=1)\n",
        "y = data['iv30']\n",
        "\n",
        "# Разделение данных на обучающую и тестовую выборки\n",
        "X_train, X_valid, y_train, y_valid = train_test_split(X_train, y_train, test_size=0.2, random_state=1)\n",
        "\n",
        "\n",
        "# Обучение модели\n",
        "model = LinearRegression()\n",
        "model.fit(X_train, y_train)\n",
        "\n",
        "# Оценка модели\n",
        "model.score(X_test, y_test)\n",
        "\n"
      ],
      "metadata": {
        "colab": {
          "base_uri": "https://localhost:8080/"
        },
        "id": "vmUwtriXV_kO",
        "outputId": "5486bf39-3a99-4c89-f43d-7d4add5a527f"
      },
      "execution_count": null,
      "outputs": [
        {
          "output_type": "execute_result",
          "data": {
            "text/plain": [
              "0.6516852248666865"
            ]
          },
          "metadata": {},
          "execution_count": 28
        }
      ]
    },
    {
      "cell_type": "code",
      "source": [
        "#from sklearn.ensemble import RandomForestRegressor\n",
        "#from sklearn.model_selection import GridSearchCV\n",
        "\n",
        "# Задаем модель\n",
        "#model = RandomForestRegressor(random_state=42)\n",
        "\n",
        "# Параметры для настройки\n",
        "#param_grid = {\n",
        "    #'n_estimators': [50, 100, 200],\n",
        "    #'max_depth': [None, 10, 20, 30],\n",
        "    #'min_samples_split': [2, 5, 10],\n",
        "    #'min_samples_leaf': [1, 2, 4],\n",
        "    #'bootstrap': [True, False]\n",
        "#}\n",
        "\n",
        "# Инициализируем поиск по сетке\n",
        "#grid_search = GridSearchCV(estimator=model, param_grid=param_grid, cv=3, n_jobs=-1)\n",
        "\n",
        "# Проводим поиск по сетке\n",
        "#grid_search.fit(X_train, y_train)\n",
        "\n",
        "# Выводим наилучшие параметры\n",
        "#print(grid_search.best_params_)\n",
        "# {'bootstrap': True, 'max_depth': 20, 'min_samples_leaf': 1, 'min_samples_split': 2, 'n_estimators': 200}\n"
      ],
      "metadata": {
        "id": "wXy05i_LcGbs"
      },
      "execution_count": null,
      "outputs": []
    },
    {
      "cell_type": "markdown",
      "source": [
        "{'bootstrap': True, 'max_depth': 20, 'min_samples_leaf': 1, 'min_samples_split': 2, 'n_estimators': 200}"
      ],
      "metadata": {
        "id": "yvEYQlI18_Rd"
      }
    },
    {
      "cell_type": "code",
      "source": [
        "from sklearn.ensemble import RandomForestRegressor\n",
        "from sklearn.metrics import mean_absolute_error\n",
        "\n",
        "# Создайте модель случайного леса с оптимальными параметрами\n",
        "forest_model = RandomForestRegressor(n_estimators=200, max_depth=20, min_samples_leaf=1, min_samples_split=2, bootstrap=True, random_state=1)\n",
        "\n",
        "# Обучите модель на тренировочных данных\n",
        "forest_model.fit(X_train, y_train)\n",
        "\n",
        "# Прогнозируйте значения на тестовых данных\n",
        "forest_preds = forest_model.predict(X_test)\n",
        "\n",
        "# Выведите среднюю абсолютную ошибку\n",
        "print(mean_absolute_error(y_test, forest_preds))\n",
        "\n"
      ],
      "metadata": {
        "id": "lVNtHZkmndqi",
        "colab": {
          "base_uri": "https://localhost:8080/"
        },
        "outputId": "5767837e-66b3-4f3a-f2d2-23274a9aa48e"
      },
      "execution_count": null,
      "outputs": [
        {
          "output_type": "stream",
          "name": "stdout",
          "text": [
            "0.6305546949623047\n"
          ]
        }
      ]
    },
    {
      "cell_type": "code",
      "source": [
        "from sklearn.ensemble import GradientBoostingRegressor\n",
        "\n",
        "# Инициализируем модель\n",
        "gb_model = GradientBoostingRegressor(random_state=42)\n",
        "\n",
        "# Обучаем модель\n",
        "gb_model.fit(X_train, y_train)\n",
        "\n",
        "# Делаем прогнозы\n",
        "gb_train_preds = gb_model.predict(X_train)\n",
        "gb_valid_preds = gb_model.predict(X_valid)\n",
        "\n",
        "# Расчитываем ошибку\n",
        "gb_train_error = mean_absolute_error(y_train, gb_train_preds)\n",
        "gb_valid_error = mean_absolute_error(y_valid, gb_valid_preds)\n",
        "\n",
        "print('Gradient Boosting MAE')\n",
        "print('-----------------------')\n",
        "print('Training: ', gb_train_error)\n",
        "print('Validation: ', gb_valid_error)\n"
      ],
      "metadata": {
        "id": "OtT9h9l39Pj6",
        "colab": {
          "base_uri": "https://localhost:8080/"
        },
        "outputId": "5b5dff6b-eff4-4d5a-8fb2-147fc0854435"
      },
      "execution_count": null,
      "outputs": [
        {
          "output_type": "stream",
          "name": "stdout",
          "text": [
            "Gradient Boosting MAE\n",
            "-----------------------\n",
            "Training:  0.8043611933187641\n",
            "Validation:  0.9759382062460352\n"
          ]
        }
      ]
    },
    {
      "cell_type": "code",
      "source": [
        "import xgboost as xgb\n",
        "\n",
        "# Создаем объект модели XGBoost\n",
        "model_xgb = xgb.XGBRegressor(objective ='reg:squarederror', n_estimators=1000, learning_rate=0.05)\n",
        "\n",
        "# Обучаем модель на тренировочном наборе данных\n",
        "model_xgb.fit(X_train, y_train)\n",
        "\n",
        "# Предсказываем целевую переменную на тренировочном и валидационном наборе данных\n",
        "y_train_pred_xgb = model_xgb.predict(X_train)\n",
        "y_valid_pred_xgb = model_xgb.predict(X_valid)\n",
        "\n",
        "# Считаем и печатаем MAE\n",
        "print(\"XGBoost MAE\")\n",
        "print(\"-----------------------\")\n",
        "print(\"Training: \", mean_absolute_error(y_train, y_train_pred_xgb))\n",
        "print(\"Validation: \", mean_absolute_error(y_valid, y_valid_pred_xgb))\n"
      ],
      "metadata": {
        "colab": {
          "base_uri": "https://localhost:8080/"
        },
        "id": "OWlmDx0oTbaF",
        "outputId": "858d035b-eefd-41dc-8de3-bf03500918f1"
      },
      "execution_count": null,
      "outputs": [
        {
          "output_type": "stream",
          "name": "stdout",
          "text": [
            "XGBoost MAE\n",
            "-----------------------\n",
            "Training:  0.024013923158968154\n",
            "Validation:  0.6359957347088547\n"
          ]
        }
      ]
    },
    {
      "cell_type": "code",
      "source": [
        "from catboost import CatBoostRegressor\n",
        "\n",
        "# Создаем модель CatBoost\n",
        "model = CatBoostRegressor(iterations=1000, learning_rate=0.05, depth=10)\n",
        "\n",
        "# Обучаем модель\n",
        "model.fit(X_train, y_train, verbose=200)\n",
        "\n",
        "# Делаем предсказания на тренировочном и тестовом наборах\n",
        "y_train_pred = model.predict(X_train)\n",
        "y_valid_pred = model.predict(X_valid)\n",
        "\n",
        "# Считаем MAE\n",
        "mae_train = mean_absolute_error(y_train, y_train_pred)\n",
        "mae_valid = mean_absolute_error(y_valid, y_valid_pred)\n",
        "\n",
        "print(\"CatBoost MAE\")\n",
        "print(\"-----------------------\")\n",
        "print(\"Training: \", mae_train)\n",
        "print(\"Validation: \", mae_valid)\n",
        "\n"
      ],
      "metadata": {
        "colab": {
          "base_uri": "https://localhost:8080/"
        },
        "id": "0syCCdRCUScm",
        "outputId": "e95cf427-d567-4be9-9bb3-a39fc476fe0f"
      },
      "execution_count": null,
      "outputs": [
        {
          "output_type": "stream",
          "name": "stdout",
          "text": [
            "0:\tlearn: 12.4928523\ttotal: 322ms\tremaining: 5m 21s\n",
            "200:\tlearn: 0.7890585\ttotal: 19.5s\tremaining: 1m 17s\n",
            "400:\tlearn: 0.3366754\ttotal: 29.3s\tremaining: 43.7s\n",
            "600:\tlearn: 0.1820523\ttotal: 37.4s\tremaining: 24.8s\n",
            "800:\tlearn: 0.1110721\ttotal: 46.6s\tremaining: 11.6s\n",
            "999:\tlearn: 0.0718445\ttotal: 55.7s\tremaining: 0us\n",
            "CatBoost MAE\n",
            "-----------------------\n",
            "Training:  0.05596049000307157\n",
            "Validation:  0.7400479408414087\n"
          ]
        }
      ]
    },
    {
      "cell_type": "code",
      "source": [
        "#from sklearn.model_selection import GridSearchCV\n",
        "#import xgboost as xgb\n",
        "\n",
        "#xgboost_model = xgb.XGBRegressor()\n",
        "\n",
        "# Define the grid of hyperparameters 'params'\n",
        "#params = {\n",
        "  #  'learning_rate': [0.01, 0.1, 0.2, 0.3],\n",
        "   # 'n_estimators': [100, 200, 500, 1000],\n",
        "   # 'max_depth': [2, 4, 6, 8]\n",
        "#}\n",
        "\n",
        "# Initialize GridSearchCV\n",
        "#grid_model = GridSearchCV(estimator=xgboost_model, param_grid=params, cv=5, n_jobs=-1, scoring='neg_mean_absolute_error')\n",
        "\n",
        "# Fit data to GridSearchCV\n",
        "#grid_model.fit(X_train, y_train)\n",
        "\n",
        "# Getting the best parameters\n",
        "#grid_model.best_params_\n",
        "# {'learning_rate': 0.01, 'max_depth': 8, 'n_estimators': 1000}"
      ],
      "metadata": {
        "colab": {
          "base_uri": "https://localhost:8080/"
        },
        "id": "8z42m6vSUz5o",
        "outputId": "4820b0f8-235f-4609-d3e9-bcdbfb29e5ae"
      },
      "execution_count": null,
      "outputs": [
        {
          "output_type": "execute_result",
          "data": {
            "text/plain": [
              "{'learning_rate': 0.01, 'max_depth': 8, 'n_estimators': 1000}"
            ]
          },
          "metadata": {},
          "execution_count": 29
        }
      ]
    },
    {
      "cell_type": "code",
      "source": [
        "# Define the model with optimized hyperparameters\n",
        "optimal_xgboost = xgb.XGBRegressor(learning_rate=0.01, max_depth=8, n_estimators=1000)\n",
        "\n",
        "# Fit the model to the training data\n",
        "optimal_xgboost.fit(X_train, y_train)\n",
        "\n",
        "# Predict the targets for training and validation sets\n",
        "train_preds = optimal_xgboost.predict(X_train)\n",
        "valid_preds = optimal_xgboost.predict(X_valid)\n",
        "\n",
        "# Evaluate the model\n",
        "print(\"Optimized XGBoost MAE\")\n",
        "print(\"----------------------\")\n",
        "print(\"Training: \", mean_absolute_error(y_train, train_preds))\n",
        "print(\"Validation: \", mean_absolute_error(y_valid, valid_preds))\n"
      ],
      "metadata": {
        "colab": {
          "base_uri": "https://localhost:8080/"
        },
        "id": "J3rAoffaWx8j",
        "outputId": "d9871cad-44e6-4956-d199-e589876594b9"
      },
      "execution_count": null,
      "outputs": [
        {
          "output_type": "stream",
          "name": "stdout",
          "text": [
            "Optimized XGBoost MAE\n",
            "----------------------\n",
            "Training:  0.10587633436939367\n",
            "Validation:  0.7174636520529695\n"
          ]
        }
      ]
    },
    {
      "cell_type": "code",
      "source": [],
      "metadata": {
        "id": "TONF-vjyeVC-"
      },
      "execution_count": null,
      "outputs": []
    }
  ]
}